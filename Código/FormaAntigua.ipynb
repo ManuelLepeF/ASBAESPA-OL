{
 "cells": [
  {
   "cell_type": "code",
   "execution_count": 21,
   "metadata": {},
   "outputs": [],
   "source": [
    "import pandas as pd \n",
    "import string\n",
    "from nltk.tokenize import word_tokenize \n",
    "from string import punctuation \n",
    "import re\n",
    "import nltk\n",
    "from sklearn.feature_extraction.text import TfidfVectorizer, CountVectorizer\n",
    "from sklearn import svm\n",
    "from sklearn.metrics import classification_report \n",
    "from sklearn.model_selection import train_test_split as tts\n",
    "from sklearn.ensemble import RandomForestClassifier\n",
    "from sklearn.naive_bayes import GaussianNB\n",
    "from sklearn import metrics"
   ]
  },
  {
   "cell_type": "code",
   "execution_count": 7,
   "metadata": {},
   "outputs": [],
   "source": [
    "with open('archivos/stopwords.txt') as archivo_stopword:\n",
    "    lista_Stopword=[line.rstrip('\\n') for line in archivo_stopword]"
   ]
  },
  {
   "cell_type": "code",
   "execution_count": 8,
   "metadata": {},
   "outputs": [],
   "source": [
    "def Procesar_DatosML(xtrain,xtest):\n",
    "   vectorizer = TfidfVectorizer(tokenizer=tokenize, max_df = 0.80, use_idf=True,min_df=1)\n",
    "   #vectorizer    = CountVectorizer(min_df=1,binary=True) # metrica binaria\n",
    "   vector_train  = vectorizer.fit_transform(xtrain)\n",
    "   vector_test   = vectorizer.transform(xtest)\n",
    "   #print(vectorizer.get_feature_names())\n",
    "   return vector_train, vector_test, vectorizer"
   ]
  },
  {
   "cell_type": "code",
   "execution_count": 12,
   "metadata": {},
   "outputs": [],
   "source": [
    "def tokenize(text):\n",
    "        tokens = nltk.word_tokenize(text,  language='spanish')\n",
    "        stems = []\n",
    "        for item in tokens:\n",
    "            stems.append(nltk.PorterStemmer().stem(item))\n",
    "        return stems"
   ]
  },
  {
   "cell_type": "code",
   "execution_count": 28,
   "metadata": {},
   "outputs": [],
   "source": [
    "def clean_corpus(corpus):\n",
    "        xcorpus = corpus.get_values()\n",
    "        for i in range(len(corpus)):\n",
    "            xcorpus[i] = re.sub(\"[^a-zA-Z]\", \" \", corpus[i].lower())\n",
    "            xcorpus[i] = ' '.join(xcorpus[i].split())\n",
    "        return xcorpus"
   ]
  },
  {
   "cell_type": "code",
   "execution_count": 39,
   "metadata": {},
   "outputs": [
    {
     "name": "stderr",
     "output_type": "stream",
     "text": [
      "/home/manuel/anaconda3/envs/Sistemas_Recomendacion/lib/python3.7/site-packages/ipykernel_launcher.py:2: FutureWarning: The 'get_values' method is deprecated and will be removed in a future version. Use '.to_numpy()' or '.array' instead.\n",
      "  \n"
     ]
    },
    {
     "name": "stdout",
     "output_type": "stream",
     "text": [
      "Accuracy: 0.9138321995464853\n"
     ]
    }
   ],
   "source": [
    "\n",
    "corpus = pd.read_csv('archivos/sinSWsinPOS.csv')\n",
    "frases = corpus['A']\n",
    "frases = clean_corpus(frases)\n",
    "# 3. PARTIR CORPUS PARA ENTRENAR\n",
    "xtrain, xtest, ytrain, ytest = tts(frases, corpus['B'], test_size=0.30)\n",
    "# 4. TOKENIZACION + VECTORIZACIO \n",
    "xtrain, xtest, vectorizer = Procesar_DatosML(xtrain=xtrain, xtest=xtest)\n",
    "Algoritmo = \"SVM\"\n",
    "# 5. MODELO\n",
    "if(Algoritmo==\"SVM\"):\n",
    "    modelo = svm.SVC(kernel='linear') \n",
    "    modelo.fit(X=xtrain,y=ytrain)\n",
    "if(Algoritmo==\"Random Forest\"):\n",
    "    modelo=RandomForestClassifier(n_estimators=10)\n",
    "    modelo.fit(X=xtrain,y=ytrain)\n",
    "if(Algoritmo==\"Naive Bayes\"):\n",
    "    modelo = GaussianNB()\n",
    "    modelo.fit(X=xtrain.toarray() ,y=ytrain)\n",
    "# 6. PREDICT + METRICAS\n",
    "prediccion = modelo.predict(xtest)\n",
    "##print(pd.crosstab(ytest, prediccion, rownames=['REAL'], colnames=['PREDICCION']))\n",
    "Metricas=\"Algoritmo:\"+Algoritmo + \"\\n\\n\"\n",
    "Metricas=Metricas+classification_report(ytest, prediccion)\n",
    "print(\"Accuracy:\",metrics.accuracy_score(ytest, prediccion))"
   ]
  },
  {
   "cell_type": "code",
   "execution_count": 40,
   "metadata": {},
   "outputs": [
    {
     "data": {
      "text/plain": [
       "<1029x4786 sparse matrix of type '<class 'numpy.float64'>'\n",
       "\twith 19959 stored elements in Compressed Sparse Row format>"
      ]
     },
     "execution_count": 40,
     "metadata": {},
     "output_type": "execute_result"
    }
   ],
   "source": [
    "xtrain"
   ]
  },
  {
   "cell_type": "code",
   "execution_count": 41,
   "metadata": {},
   "outputs": [
    {
     "data": {
      "text/plain": [
       "512     NoAgresivo\n",
       "1457      Agresivo\n",
       "1116      Agresivo\n",
       "585     NoAgresivo\n",
       "212       Agresivo\n",
       "           ...    \n",
       "887     NoAgresivo\n",
       "218       Agresivo\n",
       "452     NoAgresivo\n",
       "632     NoAgresivo\n",
       "758       Agresivo\n",
       "Name: B, Length: 1029, dtype: object"
      ]
     },
     "execution_count": 41,
     "metadata": {},
     "output_type": "execute_result"
    }
   ],
   "source": [
    "ytrain"
   ]
  },
  {
   "cell_type": "code",
   "execution_count": null,
   "metadata": {},
   "outputs": [],
   "source": []
  }
 ],
 "metadata": {
  "kernelspec": {
   "display_name": "Python 3",
   "language": "python",
   "name": "python3"
  },
  "language_info": {
   "codemirror_mode": {
    "name": "ipython",
    "version": 3
   },
   "file_extension": ".py",
   "mimetype": "text/x-python",
   "name": "python",
   "nbconvert_exporter": "python",
   "pygments_lexer": "ipython3",
   "version": "3.7.4"
  }
 },
 "nbformat": 4,
 "nbformat_minor": 2
}
