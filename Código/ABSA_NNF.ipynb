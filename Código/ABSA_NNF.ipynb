{
 "cells": [
  {
   "cell_type": "markdown",
   "metadata": {},
   "source": [
    "# Librerias y Dataset"
   ]
  },
  {
   "cell_type": "code",
   "execution_count": 1,
   "metadata": {},
   "outputs": [
    {
     "name": "stderr",
     "output_type": "stream",
     "text": [
      "Using TensorFlow backend.\n"
     ]
    }
   ],
   "source": [
    "import numpy as np\n",
    "import pandas as pd\n",
    "import nltk\n",
    "from nltk.corpus import twitter_samples\n",
    "from tensorflow import keras\n",
    "from sklearn import preprocessing\n",
    "from sklearn.model_selection import train_test_split\n",
    "import matplotlib.pyplot as plt\n",
    "from keras.preprocessing.text import Tokenizer\n",
    "from gensim.models import KeyedVectors\n",
    "data = pd.read_csv('archivos/sentimientos.csv')\n"
   ]
  },
  {
   "cell_type": "code",
   "execution_count": 2,
   "metadata": {},
   "outputs": [],
   "source": [
    "representacionVectorial = KeyedVectors.load_word2vec_format('archivos/fasttext-sbwc.3.6.e20.vec', limit=100000)"
   ]
  },
  {
   "cell_type": "markdown",
   "metadata": {},
   "source": [
    "# Codificación vectorial que mantiene la secuencia"
   ]
  },
  {
   "cell_type": "markdown",
   "metadata": {},
   "source": [
    "## Codificar Tweet "
   ]
  },
  {
   "cell_type": "code",
   "execution_count": 3,
   "metadata": {},
   "outputs": [
    {
     "name": "stdout",
     "output_type": "stream",
     "text": [
      "tokenizing input data...\n",
      "dictionary size:  1380\n"
     ]
    }
   ],
   "source": [
    "max_words=1380\n",
    "#encoded_strings = [keras.preprocessing.text.one_hot(d, max_words) for d in data['A']]\n",
    "print(\"tokenizing input data...\")\n",
    "tokenizer = Tokenizer(num_words=max_words, lower=True, char_level=False)\n",
    "tokenizer.fit_on_texts(data['A'])  #leaky\n",
    "encoded_strings = tokenizer.texts_to_sequences(data['A'])\n",
    "word_index = tokenizer.word_index\n",
    "print(\"dictionary size: \", len(word_index))\n",
    "\n",
    "#pad sequences\n",
    "encoded_strings = keras.preprocessing.sequence.pad_sequences(encoded_strings, maxlen=10000)"
   ]
  },
  {
   "cell_type": "markdown",
   "metadata": {},
   "source": [
    "## Codificar Etiqueta"
   ]
  },
  {
   "cell_type": "code",
   "execution_count": 4,
   "metadata": {},
   "outputs": [],
   "source": [
    "#encoder = preprocessing.LabelEncoder()\n",
    "#encoder.fit(data['B'])\n",
    "#encoded_labels = encoder.transform(data['B'])\n",
    "encoded_labels = pd.get_dummies(data, columns = [\"B\"])\n",
    "encoded_labels =encoded_labels[['B_negativo','B_neutral','B_positivo']]"
   ]
  },
  {
   "cell_type": "markdown",
   "metadata": {},
   "source": [
    "## Split Datos"
   ]
  },
  {
   "cell_type": "code",
   "execution_count": 5,
   "metadata": {},
   "outputs": [],
   "source": [
    "X_train, X_test, y_train, y_test = train_test_split(encoded_strings, encoded_labels, test_size=0.2, random_state=1)\n",
    "y_train = np.asarray(y_train)\n",
    "y_test = np.asarray(y_test)\n",
    "X_train = np.asarray(X_train)\n",
    "X_test = np.asarray(X_test)"
   ]
  },
  {
   "cell_type": "markdown",
   "metadata": {},
   "source": [
    "## Adaptando longitudes de los vectores de cada texto"
   ]
  },
  {
   "cell_type": "code",
   "execution_count": 6,
   "metadata": {},
   "outputs": [],
   "source": [
    "#max_length = 10000\n",
    "#X_train_padded = keras.preprocessing.sequence.pad_sequences(X_train, maxlen=max_length, padding='post')\n",
    "#X_test_padded = keras.preprocessing.sequence.pad_sequences(X_test, maxlen=max_length, padding='post')"
   ]
  },
  {
   "cell_type": "code",
   "execution_count": null,
   "metadata": {},
   "outputs": [],
   "source": []
  },
  {
   "cell_type": "code",
   "execution_count": 7,
   "metadata": {},
   "outputs": [
    {
     "name": "stdout",
     "output_type": "stream",
     "text": [
      "preparing embedding matrix...\n",
      "number of null word embeddings: 297\n"
     ]
    }
   ],
   "source": [
    "print('preparing embedding matrix...')\n",
    "embed_dim = 300\n",
    "words_not_found = []\n",
    "nb_words = min(max_words, len(word_index))\n",
    "embedding_matrix = np.zeros((nb_words, embed_dim))\n",
    "for word, i in word_index.items():\n",
    "    if i >= nb_words:\n",
    "        continue\n",
    "    if word in representacionVectorial:\n",
    "        # words not found in embedding index will be all-zeros.\n",
    "        embedding_matrix[i] = representacionVectorial[word]\n",
    "    else:\n",
    "        words_not_found.append(word)\n",
    "print('number of null word embeddings: %d' % np.sum(np.sum(embedding_matrix, axis=1) == 0))"
   ]
  },
  {
   "cell_type": "markdown",
   "metadata": {},
   "source": [
    "## Red con primera capa de embedding"
   ]
  },
  {
   "cell_type": "code",
   "execution_count": 16,
   "metadata": {},
   "outputs": [],
   "source": [
    "network = keras.models.Sequential()\n",
    "network.add(keras.layers.Embedding(max_words,embed_dim, weights=[embedding_matrix], input_length=10000,trainable=False))\n",
    "network.add(keras.layers.Flatten())\n",
    "network.add(keras.layers.Dense(units=50, activation='relu'))\n",
    "network.add(keras.layers.Dense(units=3, activation='sigmoid'))"
   ]
  },
  {
   "cell_type": "markdown",
   "metadata": {},
   "source": [
    "## Compilar red con clasificación binaria"
   ]
  },
  {
   "cell_type": "code",
   "execution_count": 17,
   "metadata": {},
   "outputs": [],
   "source": [
    "network.compile(optimizer='rmsprop',loss='categorical_crossentropy',metrics=['accuracy'])"
   ]
  },
  {
   "cell_type": "markdown",
   "metadata": {},
   "source": [
    "## Entrenar Red y visualizar resultados"
   ]
  },
  {
   "cell_type": "code",
   "execution_count": 18,
   "metadata": {},
   "outputs": [
    {
     "name": "stdout",
     "output_type": "stream",
     "text": [
      "Train on 623 samples, validate on 156 samples\n",
      "Epoch 1/50\n",
      "623/623 [==============================] - 28s 45ms/sample - loss: 0.7471 - accuracy: 0.7384 - val_loss: 0.6096 - val_accuracy: 0.7821\n",
      "Epoch 2/50\n",
      "623/623 [==============================] - 26s 42ms/sample - loss: 0.5713 - accuracy: 0.7416 - val_loss: 0.6078 - val_accuracy: 0.7821\n",
      "Epoch 3/50\n",
      "623/623 [==============================] - 26s 42ms/sample - loss: 0.4838 - accuracy: 0.7544 - val_loss: 0.6044 - val_accuracy: 0.7821\n",
      "Epoch 4/50\n",
      "623/623 [==============================] - 26s 42ms/sample - loss: 0.3922 - accuracy: 0.8395 - val_loss: 0.5946 - val_accuracy: 0.7628\n",
      "Epoch 5/50\n",
      "623/623 [==============================] - 26s 42ms/sample - loss: 0.2944 - accuracy: 0.9053 - val_loss: 0.6099 - val_accuracy: 0.7821\n",
      "Epoch 6/50\n",
      "623/623 [==============================] - 26s 42ms/sample - loss: 0.2363 - accuracy: 0.9406 - val_loss: 0.6706 - val_accuracy: 0.7949\n",
      "Epoch 7/50\n",
      "623/623 [==============================] - 26s 42ms/sample - loss: 0.1877 - accuracy: 0.9518 - val_loss: 0.6796 - val_accuracy: 0.7500\n",
      "Epoch 8/50\n",
      "623/623 [==============================] - 27s 43ms/sample - loss: 0.1609 - accuracy: 0.9567 - val_loss: 0.6867 - val_accuracy: 0.7628\n",
      "Epoch 9/50\n",
      "623/623 [==============================] - 26s 42ms/sample - loss: 0.1309 - accuracy: 0.9727 - val_loss: 0.7258 - val_accuracy: 0.7885\n",
      "Epoch 10/50\n",
      "623/623 [==============================] - 26s 42ms/sample - loss: 0.1148 - accuracy: 0.9759 - val_loss: 0.7349 - val_accuracy: 0.7564\n",
      "Epoch 11/50\n",
      "623/623 [==============================] - 27s 43ms/sample - loss: 0.0993 - accuracy: 0.9775 - val_loss: 0.7849 - val_accuracy: 0.7308\n",
      "Epoch 12/50\n",
      "623/623 [==============================] - 27s 43ms/sample - loss: 0.0856 - accuracy: 0.9807 - val_loss: 0.7882 - val_accuracy: 0.7436\n",
      "Epoch 13/50\n",
      "623/623 [==============================] - 27s 43ms/sample - loss: 0.0740 - accuracy: 0.9872 - val_loss: 0.8505 - val_accuracy: 0.7628\n",
      "Epoch 14/50\n",
      "623/623 [==============================] - 26s 42ms/sample - loss: 0.0682 - accuracy: 0.9823 - val_loss: 0.9339 - val_accuracy: 0.7500\n",
      "Epoch 15/50\n",
      "623/623 [==============================] - 26s 42ms/sample - loss: 0.0562 - accuracy: 0.9872 - val_loss: 0.9482 - val_accuracy: 0.7756\n",
      "Epoch 16/50\n",
      "623/623 [==============================] - 26s 42ms/sample - loss: 0.0490 - accuracy: 0.9904 - val_loss: 0.9593 - val_accuracy: 0.7372\n",
      "Epoch 17/50\n",
      "623/623 [==============================] - 26s 42ms/sample - loss: 0.0438 - accuracy: 0.9904 - val_loss: 1.0306 - val_accuracy: 0.7692\n",
      "Epoch 18/50\n",
      "623/623 [==============================] - 26s 42ms/sample - loss: 0.0388 - accuracy: 0.9920 - val_loss: 1.0883 - val_accuracy: 0.7692\n",
      "Epoch 19/50\n",
      "623/623 [==============================] - 26s 42ms/sample - loss: 0.0346 - accuracy: 0.9904 - val_loss: 1.1441 - val_accuracy: 0.7500\n",
      "Epoch 20/50\n",
      "623/623 [==============================] - 26s 42ms/sample - loss: 0.0327 - accuracy: 0.9888 - val_loss: 1.1729 - val_accuracy: 0.8013\n",
      "Epoch 21/50\n",
      "623/623 [==============================] - 26s 42ms/sample - loss: 0.0285 - accuracy: 0.9904 - val_loss: 1.2224 - val_accuracy: 0.7756\n",
      "Epoch 22/50\n",
      "623/623 [==============================] - 26s 42ms/sample - loss: 0.0264 - accuracy: 0.9936 - val_loss: 1.2225 - val_accuracy: 0.7500\n",
      "Epoch 23/50\n",
      "623/623 [==============================] - 26s 42ms/sample - loss: 0.0259 - accuracy: 0.9904 - val_loss: 1.2004 - val_accuracy: 0.7308\n",
      "Epoch 24/50\n",
      "623/623 [==============================] - 26s 42ms/sample - loss: 0.0244 - accuracy: 0.9920 - val_loss: 1.3303 - val_accuracy: 0.7500\n",
      "Epoch 25/50\n",
      "623/623 [==============================] - 26s 42ms/sample - loss: 0.0227 - accuracy: 0.9920 - val_loss: 1.3773 - val_accuracy: 0.7436\n",
      "Epoch 26/50\n",
      "623/623 [==============================] - 26s 42ms/sample - loss: 0.0218 - accuracy: 0.9904 - val_loss: 1.3434 - val_accuracy: 0.7308\n",
      "Epoch 27/50\n",
      "623/623 [==============================] - 27s 43ms/sample - loss: 0.0198 - accuracy: 0.9936 - val_loss: 1.4360 - val_accuracy: 0.7308\n",
      "Epoch 28/50\n",
      "623/623 [==============================] - 26s 42ms/sample - loss: 0.0179 - accuracy: 0.9952 - val_loss: 1.4830 - val_accuracy: 0.7308\n",
      "Epoch 29/50\n",
      "623/623 [==============================] - 27s 44ms/sample - loss: 0.0168 - accuracy: 0.9936 - val_loss: 1.5567 - val_accuracy: 0.7564\n",
      "Epoch 30/50\n",
      "623/623 [==============================] - 26s 42ms/sample - loss: 0.0166 - accuracy: 0.9952 - val_loss: 1.6598 - val_accuracy: 0.7500\n",
      "Epoch 31/50\n",
      "623/623 [==============================] - 26s 42ms/sample - loss: 0.0171 - accuracy: 0.9952 - val_loss: 1.7832 - val_accuracy: 0.7628\n",
      "Epoch 32/50\n",
      "623/623 [==============================] - 26s 42ms/sample - loss: 0.0154 - accuracy: 0.9952 - val_loss: 1.8047 - val_accuracy: 0.7564\n",
      "Epoch 33/50\n",
      "623/623 [==============================] - 29s 46ms/sample - loss: 0.0167 - accuracy: 0.9936 - val_loss: 1.7330 - val_accuracy: 0.7436\n",
      "Epoch 34/50\n",
      "623/623 [==============================] - 28s 44ms/sample - loss: 0.0162 - accuracy: 0.9952 - val_loss: 1.8334 - val_accuracy: 0.7564\n",
      "Epoch 35/50\n",
      "623/623 [==============================] - 28s 45ms/sample - loss: 0.0172 - accuracy: 0.9920 - val_loss: 1.9840 - val_accuracy: 0.7436\n",
      "Epoch 36/50\n",
      "623/623 [==============================] - 28s 44ms/sample - loss: 0.0141 - accuracy: 0.9936 - val_loss: 1.7687 - val_accuracy: 0.7372\n",
      "Epoch 37/50\n",
      "623/623 [==============================] - 27s 44ms/sample - loss: 0.0147 - accuracy: 0.9936 - val_loss: 2.0942 - val_accuracy: 0.7372\n",
      "Epoch 38/50\n",
      "623/623 [==============================] - 26s 42ms/sample - loss: 0.0139 - accuracy: 0.9920 - val_loss: 2.0070 - val_accuracy: 0.7179\n",
      "Epoch 39/50\n",
      "623/623 [==============================] - 26s 42ms/sample - loss: 0.0135 - accuracy: 0.9936 - val_loss: 2.0434 - val_accuracy: 0.7500\n",
      "Epoch 40/50\n",
      "623/623 [==============================] - 26s 42ms/sample - loss: 0.0140 - accuracy: 0.9936 - val_loss: 2.1190 - val_accuracy: 0.7308\n",
      "Epoch 41/50\n",
      "623/623 [==============================] - 25s 41ms/sample - loss: 0.0138 - accuracy: 0.9936 - val_loss: 2.1802 - val_accuracy: 0.7179\n",
      "Epoch 42/50\n",
      "623/623 [==============================] - 26s 41ms/sample - loss: 0.0140 - accuracy: 0.9952 - val_loss: 2.2050 - val_accuracy: 0.7115\n",
      "Epoch 43/50\n",
      "623/623 [==============================] - 25s 40ms/sample - loss: 0.0128 - accuracy: 0.9936 - val_loss: 2.2780 - val_accuracy: 0.7308\n",
      "Epoch 44/50\n",
      "623/623 [==============================] - 25s 41ms/sample - loss: 0.0128 - accuracy: 0.9936 - val_loss: 2.2520 - val_accuracy: 0.7372\n",
      "Epoch 45/50\n",
      "623/623 [==============================] - 25s 40ms/sample - loss: 0.0133 - accuracy: 0.9952 - val_loss: 2.3591 - val_accuracy: 0.7051\n",
      "Epoch 46/50\n",
      "623/623 [==============================] - 25s 40ms/sample - loss: 0.0124 - accuracy: 0.9952 - val_loss: 2.3243 - val_accuracy: 0.7244\n",
      "Epoch 47/50\n",
      "623/623 [==============================] - 25s 40ms/sample - loss: 0.0120 - accuracy: 0.9936 - val_loss: nan - val_accuracy: 0.7244\n",
      "Epoch 48/50\n",
      "623/623 [==============================] - 25s 40ms/sample - loss: 0.0127 - accuracy: 0.9936 - val_loss: nan - val_accuracy: 0.7436\n",
      "Epoch 49/50\n",
      "623/623 [==============================] - 25s 40ms/sample - loss: 0.0122 - accuracy: 0.9936 - val_loss: 2.4249 - val_accuracy: 0.7179\n",
      "Epoch 50/50\n",
      "623/623 [==============================] - 25s 40ms/sample - loss: 0.0124 - accuracy: 0.9920 - val_loss: 2.6025 - val_accuracy: 0.7308\n"
     ]
    }
   ],
   "source": [
    "history = network.fit(X_train, y_train, epochs=50, batch_size=32, validation_split=0.2)\n",
    "acc_hist = history.history['accuracy']\n",
    "val_acc_hist = history.history['val_accuracy']\n",
    "val_acc_loss = history.history['loss']"
   ]
  },
  {
   "cell_type": "code",
   "execution_count": 19,
   "metadata": {},
   "outputs": [
    {
     "data": {
      "image/png": "[encoded data removed]",
      "text/plain": [
       "<Figure size 432x288 with 1 Axes>"
      ]
     },
     "metadata": {
      "needs_background": "light"
     },
     "output_type": "display_data"
    }
   ],
   "source": [
    "epochs = range(1, len(acc_hist) + 1)\n",
    "plt.plot(epochs, acc_hist, 'bo', label='Training Acc')\n",
    "plt.plot(epochs, val_acc_hist, 'b', label='Validation Acc')\n",
    "plt.plot(epochs, val_acc_loss, 'c', label='loss')\n",
    "plt.xlabel('Epochs')\n",
    "plt.ylabel('Acc')\n",
    "plt.legend()\n",
    "plt.show()"
   ]
  },
  {
   "cell_type": "code",
   "execution_count": null,
   "metadata": {},
   "outputs": [],
   "source": []
  },
  {
   "cell_type": "code",
   "execution_count": null,
   "metadata": {},
   "outputs": [],
   "source": []
  }
 ],
 "metadata": {
  "kernelspec": {
   "display_name": "Python 3",
   "language": "python",
   "name": "python3"
  },
  "language_info": {
   "codemirror_mode": {
    "name": "ipython",
    "version": 3
   },
   "file_extension": ".py",
   "mimetype": "text/x-python",
   "name": "python",
   "nbconvert_exporter": "python",
   "pygments_lexer": "ipython3",
   "version": "3.7.4"
  }
 },
 "nbformat": 4,
 "nbformat_minor": 2
}
