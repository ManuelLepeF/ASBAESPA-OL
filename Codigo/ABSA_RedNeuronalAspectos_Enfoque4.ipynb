{
 "cells": [
  {
   "cell_type": "markdown",
   "metadata": {},
   "source": [
    "# Librerias y Dataset"
   ]
  },
  {
   "cell_type": "code",
   "execution_count": 1,
   "metadata": {},
   "outputs": [
    {
     "name": "stderr",
     "output_type": "stream",
     "text": [
      "Using TensorFlow backend.\n"
     ]
    }
   ],
   "source": [
    "import numpy as np\n",
    "import pandas as pd\n",
    "import nltk\n",
    "from nltk.corpus import twitter_samples\n",
    "from tensorflow import keras\n",
    "from sklearn import preprocessing\n",
    "from sklearn.model_selection import train_test_split\n",
    "import matplotlib.pyplot as plt\n",
    "from keras.preprocessing.text import Tokenizer\n",
    "from gensim.models import KeyedVectors\n",
    "from sklearn import metrics\n",
    "data = pd.read_csv('archivos/aspectos.csv')"
   ]
  },
  {
   "cell_type": "code",
   "execution_count": 2,
   "metadata": {},
   "outputs": [],
   "source": [
    "representacionVectorial = KeyedVectors.load_word2vec_format('archivos/fasttext-sbwc.3.6.e20.vec', limit=100000)"
   ]
  },
  {
   "cell_type": "markdown",
   "metadata": {},
   "source": [
    "## Codificar Tweet "
   ]
  },
  {
   "cell_type": "code",
   "execution_count": 3,
   "metadata": {},
   "outputs": [
    {
     "name": "stdout",
     "output_type": "stream",
     "text": [
      "tokenizing input data...\n",
      "dictionary size:  1274\n"
     ]
    }
   ],
   "source": [
    "max_words=1274\n",
    "print(\"tokenizing input data...\")\n",
    "tokenizer = Tokenizer(num_words=max_words, lower=True, char_level=False)\n",
    "tokenizer.fit_on_texts(data['A'])  #leaky\n",
    "encoded_strings = tokenizer.texts_to_sequences(data['A'])\n",
    "word_index = tokenizer.word_index\n",
    "print(\"dictionary size: \", len(word_index))\n",
    "encoded_strings = keras.preprocessing.sequence.pad_sequences(encoded_strings, maxlen=10000)"
   ]
  },
  {
   "cell_type": "markdown",
   "metadata": {},
   "source": [
    "## Codificar Etiqueta"
   ]
  },
  {
   "cell_type": "code",
   "execution_count": 4,
   "metadata": {},
   "outputs": [],
   "source": [
    "encoded_labels = pd.get_dummies(data, columns = [\"B\"])\n",
    "encoded_labels =encoded_labels[['B_ambiente','B_comida','B_precio','B_servicio']]"
   ]
  },
  {
   "cell_type": "markdown",
   "metadata": {},
   "source": [
    "## Split Datos"
   ]
  },
  {
   "cell_type": "code",
   "execution_count": 5,
   "metadata": {},
   "outputs": [],
   "source": [
    "X_train, X_test, y_train, y_test = train_test_split(encoded_strings, encoded_labels, test_size=0.2, random_state=1)\n",
    "y_train = np.asarray(y_train)\n",
    "y_test = np.asarray(y_test)\n",
    "X_train = np.asarray(X_train)\n",
    "X_test = np.asarray(X_test)"
   ]
  },
  {
   "cell_type": "markdown",
   "metadata": {},
   "source": [
    "## Preparando embedding matrix"
   ]
  },
  {
   "cell_type": "code",
   "execution_count": 7,
   "metadata": {},
   "outputs": [
    {
     "name": "stdout",
     "output_type": "stream",
     "text": [
      "preparing embedding matrix...\n",
      "number of null word embeddings: 279\n"
     ]
    }
   ],
   "source": [
    "print('preparing embedding matrix...')\n",
    "embed_dim = 300\n",
    "words_not_found = []\n",
    "nb_words = min(max_words, len(word_index))\n",
    "embedding_matrix = np.zeros((nb_words, embed_dim))\n",
    "for word, i in word_index.items():\n",
    "    if i >= nb_words:\n",
    "        continue\n",
    "    if word in representacionVectorial:\n",
    "        # words not found in embedding index will be all-zeros.\n",
    "        embedding_matrix[i] = representacionVectorial[word]\n",
    "    else:\n",
    "        words_not_found.append(word)\n",
    "print('number of null word embeddings: %d' % np.sum(np.sum(embedding_matrix, axis=1) == 0))"
   ]
  },
  {
   "cell_type": "markdown",
   "metadata": {},
   "source": [
    "## Red con primera capa de embedding"
   ]
  },
  {
   "cell_type": "code",
   "execution_count": 8,
   "metadata": {},
   "outputs": [],
   "source": [
    "network = keras.models.Sequential()\n",
    "network.add(keras.layers.Embedding(max_words,embed_dim, weights=[embedding_matrix], input_length=10000,trainable=False))\n",
    "network.add(keras.layers.Flatten())\n",
    "network.add(keras.layers.Dense(units=50, activation='relu'))\n",
    "network.add(keras.layers.Dense(units=4, activation='sigmoid'))"
   ]
  },
  {
   "cell_type": "markdown",
   "metadata": {},
   "source": [
    "## Compilar red con clasificación binaria"
   ]
  },
  {
   "cell_type": "code",
   "execution_count": 9,
   "metadata": {},
   "outputs": [],
   "source": [
    "network.compile(optimizer='rmsprop',loss='categorical_crossentropy',metrics=['accuracy'])"
   ]
  },
  {
   "cell_type": "markdown",
   "metadata": {},
   "source": [
    "## Entrenar Red y visualizar resultados"
   ]
  },
  {
   "cell_type": "code",
   "execution_count": 10,
   "metadata": {},
   "outputs": [
    {
     "name": "stdout",
     "output_type": "stream",
     "text": [
      "Train on 572 samples, validate on 144 samples\n",
      "Epoch 1/25\n",
      "572/572 [==============================] - 25s 43ms/sample - loss: 1.1031 - accuracy: 0.5787 - val_loss: 0.8503 - val_accuracy: 0.7431\n",
      "Epoch 2/25\n",
      "572/572 [==============================] - 23s 41ms/sample - loss: 0.6991 - accuracy: 0.7937 - val_loss: 0.6321 - val_accuracy: 0.7986\n",
      "Epoch 3/25\n",
      "572/572 [==============================] - 23s 41ms/sample - loss: 0.4648 - accuracy: 0.8846 - val_loss: 0.5203 - val_accuracy: 0.7986\n",
      "Epoch 4/25\n",
      "572/572 [==============================] - 23s 41ms/sample - loss: 0.3165 - accuracy: 0.9476 - val_loss: 0.5258 - val_accuracy: 0.8125\n",
      "Epoch 5/25\n",
      "572/572 [==============================] - 23s 41ms/sample - loss: 0.2361 - accuracy: 0.9580 - val_loss: 0.5087 - val_accuracy: 0.8264\n",
      "Epoch 6/25\n",
      "572/572 [==============================] - 23s 41ms/sample - loss: 0.1743 - accuracy: 0.9720 - val_loss: 0.4596 - val_accuracy: 0.8264\n",
      "Epoch 7/25\n",
      "572/572 [==============================] - 23s 41ms/sample - loss: 0.1359 - accuracy: 0.9843 - val_loss: 0.4665 - val_accuracy: 0.7986\n",
      "Epoch 8/25\n",
      "572/572 [==============================] - 23s 41ms/sample - loss: 0.0999 - accuracy: 0.9930 - val_loss: 0.4892 - val_accuracy: 0.8056\n",
      "Epoch 9/25\n",
      "572/572 [==============================] - 23s 41ms/sample - loss: 0.0803 - accuracy: 0.9930 - val_loss: 0.4891 - val_accuracy: 0.7847\n",
      "Epoch 10/25\n",
      "572/572 [==============================] - 24s 42ms/sample - loss: 0.0655 - accuracy: 0.9930 - val_loss: 0.5719 - val_accuracy: 0.8125\n",
      "Epoch 11/25\n",
      "572/572 [==============================] - 23s 41ms/sample - loss: 0.0543 - accuracy: 0.9930 - val_loss: 0.5436 - val_accuracy: 0.8194\n",
      "Epoch 12/25\n",
      "572/572 [==============================] - 23s 41ms/sample - loss: 0.0438 - accuracy: 0.9930 - val_loss: 0.5722 - val_accuracy: 0.8125\n",
      "Epoch 13/25\n",
      "572/572 [==============================] - 23s 41ms/sample - loss: 0.0370 - accuracy: 0.9930 - val_loss: 0.6485 - val_accuracy: 0.8333\n",
      "Epoch 14/25\n",
      "572/572 [==============================] - 23s 41ms/sample - loss: 0.0327 - accuracy: 0.9948 - val_loss: 0.5890 - val_accuracy: 0.7986\n",
      "Epoch 15/25\n",
      "572/572 [==============================] - 23s 41ms/sample - loss: 0.0287 - accuracy: 0.9948 - val_loss: 0.6614 - val_accuracy: 0.8194\n",
      "Epoch 16/25\n",
      "572/572 [==============================] - 23s 41ms/sample - loss: 0.0255 - accuracy: 0.9948 - val_loss: 0.7781 - val_accuracy: 0.7986\n",
      "Epoch 17/25\n",
      "572/572 [==============================] - 23s 41ms/sample - loss: 0.0213 - accuracy: 0.9948 - val_loss: 0.6692 - val_accuracy: 0.8125\n",
      "Epoch 18/25\n",
      "572/572 [==============================] - 24s 41ms/sample - loss: 0.0220 - accuracy: 0.9948 - val_loss: 0.8526 - val_accuracy: 0.8194\n",
      "Epoch 19/25\n",
      "572/572 [==============================] - 23s 41ms/sample - loss: 0.0202 - accuracy: 0.9948 - val_loss: 0.7726 - val_accuracy: 0.8056\n",
      "Epoch 20/25\n",
      "572/572 [==============================] - 24s 41ms/sample - loss: 0.0194 - accuracy: 0.9948 - val_loss: 0.8589 - val_accuracy: 0.8056\n",
      "Epoch 21/25\n",
      "572/572 [==============================] - 23s 41ms/sample - loss: 0.0174 - accuracy: 0.9948 - val_loss: 0.8070 - val_accuracy: 0.8264\n",
      "Epoch 22/25\n",
      "572/572 [==============================] - 24s 41ms/sample - loss: 0.0172 - accuracy: 0.9930 - val_loss: 0.9556 - val_accuracy: 0.8194\n",
      "Epoch 23/25\n",
      "572/572 [==============================] - 23s 41ms/sample - loss: 0.0155 - accuracy: 0.9913 - val_loss: 0.9691 - val_accuracy: 0.8056\n",
      "Epoch 24/25\n",
      "572/572 [==============================] - 24s 41ms/sample - loss: 0.0166 - accuracy: 0.9948 - val_loss: 1.0008 - val_accuracy: 0.8264\n",
      "Epoch 25/25\n",
      "572/572 [==============================] - 25s 44ms/sample - loss: 0.0149 - accuracy: 0.9930 - val_loss: 1.0670 - val_accuracy: 0.8333\n"
     ]
    }
   ],
   "source": [
    "history = network.fit(X_train, y_train, epochs=25, batch_size=32, validation_split=0.2)\n",
    "acc_hist = history.history['accuracy']\n",
    "val_acc_hist = history.history['val_accuracy']\n",
    "val_acc_loss = history.history['loss']"
   ]
  },
  {
   "cell_type": "code",
   "execution_count": 22,
   "metadata": {},
   "outputs": [
    {
     "data": {
      "image/png": "[encoded data removed]",
      "text/plain": [
       "<Figure size 432x288 with 1 Axes>"
      ]
     },
     "metadata": {
      "needs_background": "light"
     },
     "output_type": "display_data"
    }
   ],
   "source": [
    "epochs = range(1, len(acc_hist) + 1)\n",
    "plt.plot(epochs, acc_hist, 'bo', label='Acc para entrenamiento')\n",
    "plt.plot(epochs, val_acc_hist, 'b', label='Acc para la validación')\n",
    "plt.plot(epochs, val_acc_loss, 'c', label='Perdida')\n",
    "plt.title('Accuracy vs épocas')\n",
    "plt.xlabel('Épocas')\n",
    "plt.ylabel('Accuracy')\n",
    "plt.legend()\n",
    "plt.show()"
   ]
  },
  {
   "cell_type": "code",
   "execution_count": 23,
   "metadata": {},
   "outputs": [
    {
     "name": "stdout",
     "output_type": "stream",
     "text": [
      "\r",
      "179/1 [==========================================================================================================================================================================================================================================================================================================================================================================================================================================================================================================================================================================================================================================================================================================================================================================================================================================================================================================================================================================================================================================================================================================================================================================================================================================================================================================================================================================================================================================================================================================================================================================================================================================================================================================================================================================================================================================================================================================================================================================================================================================================================================================================================================================================================================================================================================================================================================================================================================================================================================================================================================================================================================================================================================================================================================================================================================================================================================================================================================================================================================================================================================================================================================================================================================================================================================================================================================================================================================================================================================================================================================================================================================================================================================================================================================================================================================================================================================================================================================================================================================================================================================================================================================================================================================================================================================================================================================================================================================================================================================================================================================================================================================================================================================================================================================================================================================================================================================================================================================================================================================================================================================================================================================================================================================================================================================================================================================================================================================================================================================================================================================================================] - 1s 5ms/sample - loss: 1.0336 - accuracy: 0.8045\n"
     ]
    },
    {
     "data": {
      "text/plain": [
       "[1.403565553313527, 0.8044693]"
      ]
     },
     "execution_count": 23,
     "metadata": {},
     "output_type": "execute_result"
    }
   ],
   "source": [
    "network.evaluate(X_test,y_test)\n"
   ]
  },
  {
   "cell_type": "code",
   "execution_count": null,
   "metadata": {},
   "outputs": [],
   "source": []
  }
 ],
 "metadata": {
  "kernelspec": {
   "display_name": "Python 3",
   "language": "python",
   "name": "python3"
  },
  "language_info": {
   "codemirror_mode": {
    "name": "ipython",
    "version": 3
   },
   "file_extension": ".py",
   "mimetype": "text/x-python",
   "name": "python",
   "nbconvert_exporter": "python",
   "pygments_lexer": "ipython3",
   "version": "3.7.4"
  }
 },
 "nbformat": 4,
 "nbformat_minor": 2
}
