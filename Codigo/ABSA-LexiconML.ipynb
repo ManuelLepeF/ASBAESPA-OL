{
 "cells": [
  {
   "cell_type": "markdown",
   "metadata": {},
   "source": [
    "# Librerias"
   ]
  },
  {
   "cell_type": "code",
   "execution_count": 1,
   "metadata": {},
   "outputs": [],
   "source": [
    "import pandas as pd \n",
    "import string\n",
    "from nltk.tokenize import word_tokenize \n",
    "from string import punctuation \n",
    "import re\n",
    "import nltk\n",
    "from sklearn.feature_extraction.text import TfidfVectorizer, CountVectorizer\n",
    "from sklearn import svm\n",
    "from sklearn.metrics import classification_report \n",
    "from sklearn.model_selection import train_test_split\n",
    "from sklearn.ensemble import RandomForestClassifier\n",
    "from sklearn.naive_bayes import GaussianNB\n",
    "from sklearn import metrics\n",
    "import numpy as np"
   ]
  },
  {
   "cell_type": "markdown",
   "metadata": {},
   "source": [
    "# Archivos"
   ]
  },
  {
   "cell_type": "code",
   "execution_count": 2,
   "metadata": {},
   "outputs": [],
   "source": [
    "with open('archivos/negacion.txt') as archivo_negaciones:\n",
    "    listaNegaciones = [line.rstrip('\\n') for line in archivo_negaciones]\n",
    "\n",
    "with open('archivos/stopwords.txt') as archivo_stopword:\n",
    "    listaStopword=[line.rstrip('\\n') for line in archivo_stopword]\n",
    "\n",
    "with open('archivos/intensificadores.txt') as archivo_intensificadores:\n",
    "    listaInten=[line.rstrip('\\n') for line in archivo_intensificadores]\n",
    "    \n",
    "with open('archivos/mitigadores.txt') as archivo_mitigadores:\n",
    "    listaMiti= [line.rstrip('\\n') for line in archivo_mitigadores]\n",
    "    \n",
    "df = pd.read_excel('archivos/lexicon-SENTIMIENTO.xlsx', sheet_name='Hoja1')\n",
    "listaPalabras = df['Palabras']\n",
    "listaPolaridad = df['Polaridad']"
   ]
  },
  {
   "cell_type": "markdown",
   "metadata": {},
   "source": [
    "# Funciones"
   ]
  },
  {
   "cell_type": "markdown",
   "metadata": {},
   "source": [
    "## Filtrar StopWord"
   ]
  },
  {
   "cell_type": "code",
   "execution_count": 3,
   "metadata": {},
   "outputs": [],
   "source": [
    "def Filtrar_StopWord(frase):\n",
    "    frase = re.sub('[%s]' % re.escape(string.punctuation), ' ', frase)\n",
    "    vector_frase = word_tokenize(frase)\n",
    "    fraseFiltrada =\"\"\n",
    "    non_words = list(punctuation) \n",
    "    non_words.extend(['¿', '¡'])\n",
    "    for palabra in vector_frase:\n",
    "        if palabra.lower() not in lista_Stopword and palabra not in non_words:\n",
    "            fraseFiltrada +=\" \"+palabra\n",
    "    return fraseFiltrada"
   ]
  },
  {
   "cell_type": "markdown",
   "metadata": {},
   "source": [
    "## Tokenize"
   ]
  },
  {
   "cell_type": "code",
   "execution_count": 4,
   "metadata": {},
   "outputs": [],
   "source": [
    "def Tokenize(text):\n",
    "        tokens = nltk.word_tokenize(text,  language='spanish')\n",
    "        stems = []\n",
    "        for item in tokens:\n",
    "            stems.append(nltk.PorterStemmer().stem(item))\n",
    "        return stems"
   ]
  },
  {
   "cell_type": "markdown",
   "metadata": {},
   "source": [
    "## Limpiar Corpus"
   ]
  },
  {
   "cell_type": "code",
   "execution_count": 5,
   "metadata": {},
   "outputs": [],
   "source": [
    "def LimpiarCorpus(X_frases):\n",
    "        for i in range(len(X_frases)):\n",
    "            X_frases[i] = re.sub(\"[^a-zA-Z]\", \" \", X_frases[i].lower())\n",
    "            X_frases[i] = ' '.join(X_frases[i].split())\n",
    "        return X_frases"
   ]
  },
  {
   "cell_type": "markdown",
   "metadata": {},
   "source": [
    "## Entrenar y medir modelos ML"
   ]
  },
  {
   "cell_type": "code",
   "execution_count": 6,
   "metadata": {},
   "outputs": [],
   "source": [
    "def EntrenarMedirML(X_train, X_test, Y_train, Y_test,algoritmo):\n",
    "    # MODELO\n",
    "    if(algoritmo==\"SVM\"):\n",
    "        modelo = svm.SVC(kernel='linear') \n",
    "        modelo.fit(X=X_train,y=Y_train)\n",
    "        # PREDICCIÓN\n",
    "        prediccion = modelo.predict(X_test)\n",
    "    if(algoritmo==\"Random Forest\"):\n",
    "        modelo=RandomForestClassifier(n_estimators=10)\n",
    "        modelo.fit(X=X_train,y=Y_train)\n",
    "        # PREDICCIÓN\n",
    "        prediccion = modelo.predict(X_test)\n",
    "    if(algoritmo==\"Naive Bayes\"):\n",
    "        modelo = GaussianNB()\n",
    "        modelo.fit(X=X_train,y=Y_train)\n",
    "        # PREDICCIÓN\n",
    "        prediccion = modelo.predict(X_test)\n",
    "    # METRICAS\n",
    "    #reporteMetricas= classification_report(Y_test, prediccion)\n",
    "    return metrics.accuracy_score(Y_test, prediccion),modelo"
   ]
  },
  {
   "cell_type": "markdown",
   "metadata": {},
   "source": [
    "## Buscar la palabra en el lexicón"
   ]
  },
  {
   "cell_type": "code",
   "execution_count": 7,
   "metadata": {},
   "outputs": [],
   "source": [
    "def BuscarLexicon(palabra):\n",
    "    for i in range (0,len(listaPalabras)):\n",
    "      if palabra ==str(listaPalabras[i]):\n",
    "          polaridadPalabra=str(listaPolaridad[i])\n",
    "          if polaridadPalabra=='positivo':\n",
    "              return 1\n",
    "          else:\n",
    "              if polaridadPalabra=='negativo':\n",
    "                 return -1\n",
    "              else:\n",
    "                  return 0\n",
    "    return -5"
   ]
  },
  {
   "cell_type": "markdown",
   "metadata": {},
   "source": [
    "## Buscar cuantificadores"
   ]
  },
  {
   "cell_type": "code",
   "execution_count": 8,
   "metadata": {},
   "outputs": [],
   "source": [
    "def BuscarCuantificadores(palabra):\n",
    "    if palabra in listaInten:\n",
    "        return 0.3\n",
    "    else:\n",
    "        if palabra in listaMiti:\n",
    "            return -0.3\n",
    "        return 0"
   ]
  },
  {
   "cell_type": "markdown",
   "metadata": {},
   "source": [
    "## Tratar los cuantificadores"
   ]
  },
  {
   "cell_type": "code",
   "execution_count": 9,
   "metadata": {},
   "outputs": [],
   "source": [
    "def TratarCuantificadores(cuantificadores,tope):\n",
    "    if tope!=0:\n",
    "        if cuantificadores[tope-1]>0:\n",
    "            return tope*0.3*1\n",
    "        else:\n",
    "            return tope*-0.3*1\n",
    "    else:\n",
    "        return 0"
   ]
  },
  {
   "cell_type": "markdown",
   "metadata": {},
   "source": [
    "## Calcular la polaridad con lexicón de una frase"
   ]
  },
  {
   "cell_type": "code",
   "execution_count": 10,
   "metadata": {},
   "outputs": [],
   "source": [
    "def CalcularPolaridad(fraseFiltrada):\n",
    "    numeroPositivas = 0\n",
    "    numeroNegativas = 0\n",
    "    polaridad=0\n",
    "    negacion=0\n",
    "    cuantificadores=[]\n",
    "    tope=0\n",
    "    for palabra in fraseFiltrada:\n",
    "        if palabra in listaNegaciones:\n",
    "            negacion=3\n",
    "        else:\n",
    "            porcentaje=BuscarCuantificadores(palabra)\n",
    "            if porcentaje != 0:\n",
    "                    cuantificadores.insert(tope,porcentaje)\n",
    "                    tope=tope+1\n",
    "            else:\n",
    "                polaridadPalabra=BuscarLexicon(palabra)\n",
    "                if polaridadPalabra != -5:\n",
    "                    if polaridadPalabra==1: numeroPositivas +=1\n",
    "                    else: numeroNegativas =+1\n",
    "                    multi=TratarCuantificadores(cuantificadores,tope)\n",
    "                    tope=0\n",
    "                    if(negacion>0):\n",
    "                        polaridad=polaridad+polaridadPalabra*-1+multi\n",
    "                        negacion=negacion-1\n",
    "                    else:\n",
    "                        if polaridadPalabra >0:\n",
    "                            polaridad=polaridad+polaridadPalabra+multi\n",
    "                        else: \n",
    "                            polaridad=polaridad+polaridadPalabra-multi\n",
    "    return numeroPositivas, numeroNegativas, len(cuantificadores),polaridad"
   ]
  },
  {
   "cell_type": "markdown",
   "metadata": {},
   "source": [
    "## Filtrar frases"
   ]
  },
  {
   "cell_type": "code",
   "execution_count": 11,
   "metadata": {},
   "outputs": [],
   "source": [
    "def FiltrarFrase (frase):\n",
    "    vector_frase = word_tokenize(frase.lower())\n",
    "    fraseFiltrada = []\n",
    "    non_words = list(punctuation) \n",
    "    non_words.extend(['¿', '¡'])\n",
    "    for palabra in vector_frase:\n",
    "        if palabra not in listaStopword and palabra not in non_words:\n",
    "            fraseFiltrada.append(palabra)\n",
    "        else:\n",
    "            if palabra in listaNegaciones or palabra in listaInten or palabra in listaMiti:\n",
    "                fraseFiltrada.append(palabra)\n",
    "    return fraseFiltrada"
   ]
  },
  {
   "cell_type": "markdown",
   "metadata": {},
   "source": [
    "## Enfoque 2 con vector derivado de un analisis de sentimiento con lexicones"
   ]
  },
  {
   "cell_type": "code",
   "execution_count": 12,
   "metadata": {},
   "outputs": [],
   "source": [
    "def ClasificarPolaridadLexicon(corpus,algoritmo):\n",
    "    \n",
    "    X_frases = np.asarray(corpus[['A']])\n",
    "    X_frases = X_frases.ravel()\n",
    "    Y_sentimiento = np.asarray(corpus[['B']])\n",
    "    Y_sentimiento = Y_sentimiento.ravel()\n",
    "    X_frases = LimpiarCorpus(X_frases)\n",
    "    # PARTIR CORPUS PARA ENTRENAR\n",
    "    X_trainPre, X_testPre, Y_train, Y_test = train_test_split(X_frases, Y_sentimiento, test_size=0.30)\n",
    "    X_train = []\n",
    "    X_test = []\n",
    "    for i in range (0,len(X_trainPre)):\n",
    "        fraseProcesada = FiltrarFrase(X_trainPre[i])\n",
    "        numeroPositivas, numeroNegativas,numeroCuantificadores,polaridadFrase = CalcularPolaridad(fraseProcesada)\n",
    "        X_train.insert(i,[polaridadFrase,numeroPositivas,numeroNegativas,numeroCuantificadores,])\n",
    "        if(i<len(X_testPre)):\n",
    "            fraseProcesada = FiltrarFrase(X_testPre[i])\n",
    "            numeroPositivas, numeroNegativas, numeroCuantificadores,polaridadFrase = CalcularPolaridad(fraseProcesada)\n",
    "            X_test.insert(i,[polaridadFrase,numeroPositivas,numeroNegativas,numeroCuantificadores])\n",
    "    return np.asarray(X_train), np.asarray(X_test), Y_train, Y_test"
   ]
  },
  {
   "cell_type": "markdown",
   "metadata": {},
   "source": [
    "# Main"
   ]
  },
  {
   "cell_type": "markdown",
   "metadata": {},
   "source": [
    "## Analisis de sentimiento Enfoque: vector derivado de un analisis de sentimiento con lexicones"
   ]
  },
  {
   "cell_type": "code",
   "execution_count": 13,
   "metadata": {},
   "outputs": [],
   "source": [
    "algoritmo = \"SVM\"\n",
    "corpus = pd.read_csv('archivos/sentimientos.csv')\n",
    "X_train, X_test, Y_train, Y_test = ClasificarPolaridadLexicon(corpus,algoritmo)"
   ]
  },
  {
   "cell_type": "code",
   "execution_count": 21,
   "metadata": {},
   "outputs": [
    {
     "data": {
      "text/plain": [
       "0.7133105802048998"
      ]
     },
     "execution_count": 21,
     "metadata": {},
     "output_type": "execute_result"
    }
   ],
   "source": [
    "accuracyPromedio = 0\n",
    "algoritmo=\"SVM\"\n",
    "numeroEjecuciones = 10000\n",
    "for i in range(numeroEjecuciones):\n",
    "    accuracy, kk = EntrenarMedirML(X_train, X_test, Y_train, Y_test,algoritmo)\n",
    "    accuracyPromedio += accuracy\n",
    "accuracyPromedio/numeroEjecuciones"
   ]
  },
  {
   "cell_type": "code",
   "execution_count": null,
   "metadata": {},
   "outputs": [],
   "source": []
  }
 ],
 "metadata": {
  "kernelspec": {
   "display_name": "Python 3",
   "language": "python",
   "name": "python3"
  },
  "language_info": {
   "codemirror_mode": {
    "name": "ipython",
    "version": 3
   },
   "file_extension": ".py",
   "mimetype": "text/x-python",
   "name": "python",
   "nbconvert_exporter": "python",
   "pygments_lexer": "ipython3",
   "version": "3.7.4"
  }
 },
 "nbformat": 4,
 "nbformat_minor": 2
}
