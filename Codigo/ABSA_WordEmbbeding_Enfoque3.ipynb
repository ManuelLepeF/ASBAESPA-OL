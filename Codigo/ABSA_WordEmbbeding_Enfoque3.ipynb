{
 "cells": [
  {
   "cell_type": "markdown",
   "metadata": {},
   "source": [
    "## Liberias y word embedding"
   ]
  },
  {
   "cell_type": "code",
   "execution_count": 1,
   "metadata": {},
   "outputs": [],
   "source": [
    "import pandas as pd \n",
    "import numpy as np\n",
    "import nltk\n",
    "from string import punctuation \n",
    "import re\n",
    "from sklearn import svm\n",
    "from sklearn.metrics import classification_report \n",
    "from sklearn.model_selection import train_test_split\n",
    "from sklearn.ensemble import RandomForestClassifier\n",
    "from sklearn.naive_bayes import GaussianNB\n",
    "from sklearn import metrics\n",
    "from gensim.models import KeyedVectors\n",
    "from numpy.linalg import norm # para normalizar datos\n",
    "from nltk.tokenize import word_tokenize"
   ]
  },
  {
   "cell_type": "code",
   "execution_count": 2,
   "metadata": {},
   "outputs": [],
   "source": [
    "representacionVectorial = KeyedVectors.load_word2vec_format('archivos/fasttext-sbwc.3.6.e20.vec', limit=100000)"
   ]
  },
  {
   "cell_type": "markdown",
   "metadata": {},
   "source": [
    "## Tokenize "
   ]
  },
  {
   "cell_type": "code",
   "execution_count": 3,
   "metadata": {},
   "outputs": [],
   "source": [
    "def Tokenize(text):\n",
    "        tokens = nltk.word_tokenize(text,  language='spanish')\n",
    "        stems = []\n",
    "        for item in tokens:\n",
    "            stems.append(nltk.PorterStemmer().stem(item))\n",
    "        return stems"
   ]
  },
  {
   "cell_type": "markdown",
   "metadata": {},
   "source": [
    "## Limpiar Corpus"
   ]
  },
  {
   "cell_type": "code",
   "execution_count": 4,
   "metadata": {},
   "outputs": [],
   "source": [
    "def LimpiarCorpus(X_frases):\n",
    "    non_words = list(punctuation) \n",
    "    non_words.extend(['¿', '¡'])\n",
    "    for i in range(len(X_frases)):\n",
    "        if X_frases[i].lower() not in non_words:\n",
    "            X_frases[i] = re.sub(\"[^a-zA-Z]\", \" \", X_frases[i].lower())\n",
    "            X_frases[i] = ' '.join(X_frases[i].split())\n",
    "    return X_frases"
   ]
  },
  {
   "cell_type": "markdown",
   "metadata": {},
   "source": [
    "## Vectorizar Frase con word embeding "
   ]
  },
  {
   "cell_type": "code",
   "execution_count": 5,
   "metadata": {},
   "outputs": [],
   "source": [
    "def VectorizarWordEmbedding(frases):\n",
    "    X_frases = []\n",
    "    for frase in frases:\n",
    "        tokens = Tokenize(frase)\n",
    "        vec = np.zeros(300)\n",
    "        palabrasEncontradas = 0\n",
    "        for palabra in tokens:\n",
    "            if palabra in representacionVectorial:\n",
    "                palabrasEncontradas +=1\n",
    "                vec += representacionVectorial[palabra]\n",
    "        if palabrasEncontradas != 0:\n",
    "            X_frases.append(vec / norm(vec))\n",
    "        else:\n",
    "            X_frases.append(vec)\n",
    "    return np.asarray(X_frases)"
   ]
  },
  {
   "cell_type": "markdown",
   "metadata": {},
   "source": [
    "## Entrenar y medir modelos ML"
   ]
  },
  {
   "cell_type": "code",
   "execution_count": 6,
   "metadata": {},
   "outputs": [],
   "source": [
    "def EntrenarMedirML(X_train, X_test, Y_train, Y_test,algoritmo):\n",
    "    # MODELO\n",
    "    if(algoritmo==\"SVM\"):\n",
    "        modelo = svm.SVC(kernel='linear') \n",
    "        modelo.fit(X=X_train,y=Y_train)\n",
    "        # PREDICCIÓN\n",
    "        prediccion = modelo.predict(X_test)\n",
    "    if(algoritmo==\"Random Forest\"):\n",
    "        modelo=RandomForestClassifier(n_estimators=10)\n",
    "        modelo.fit(X=X_train,y=Y_train)\n",
    "        # PREDICCIÓN\n",
    "        prediccion = modelo.predict(X_test)\n",
    "    if(algoritmo==\"Naive Bayes\"):\n",
    "        modelo = GaussianNB()\n",
    "        modelo.fit(X=X_train,y=Y_train)\n",
    "        # PREDICCIÓN\n",
    "        prediccion = modelo.predict(X_test)\n",
    "    # METRICAS\n",
    "    #reporteMetricas= classification_report(Y_test, prediccion)\n",
    "    return metrics.accuracy_score(Y_test, prediccion),modelo"
   ]
  },
  {
   "cell_type": "markdown",
   "metadata": {},
   "source": [
    "## Clasificar palabra usando vector word Embedding como representacion"
   ]
  },
  {
   "cell_type": "code",
   "execution_count": 7,
   "metadata": {},
   "outputs": [],
   "source": [
    "def ClasificarPolaridadWE(corpus,algoritmo):\n",
    "    X_frases = np.asarray(corpus[['A']])\n",
    "    X_frases = X_frases.ravel()\n",
    "    Y_sentimiento = np.asarray(corpus[['B']])\n",
    "    Y_sentimiento = Y_sentimiento.ravel()\n",
    "    X_frases = LimpiarCorpus(X_frases)\n",
    "    X_frases = VectorizarWordEmbedding(X_frases)\n",
    "    # PARTIR CORPUS PARA ENTRENAR\n",
    "    X_train, X_test, Y_train, Y_test = train_test_split(X_frases, Y_sentimiento, test_size=0.30)\n",
    "    return EntrenarMedirML(X_train, X_test, Y_train, Y_test,algoritmo)"
   ]
  },
  {
   "cell_type": "markdown",
   "metadata": {},
   "source": [
    "# MAIN"
   ]
  },
  {
   "cell_type": "markdown",
   "metadata": {},
   "source": [
    "## Clasificación de aspecto"
   ]
  },
  {
   "cell_type": "code",
   "execution_count": 8,
   "metadata": {},
   "outputs": [
    {
     "data": {
      "text/plain": [
       "0.8261338289962822"
      ]
     },
     "execution_count": 8,
     "metadata": {},
     "output_type": "execute_result"
    }
   ],
   "source": [
    "accuracyPromedio = 0\n",
    "algoritmo = \"SVM\"\n",
    "numeroEjecuciones = 100\n",
    "for i in range(numeroEjecuciones):\n",
    "    corpus = pd.read_csv('archivos/aspectos.csv')\n",
    "    accuracy, modelo = ClasificarPolaridadWE(corpus,algoritmo)\n",
    "    accuracyPromedio += accuracy\n",
    "accuracyPromedio/numeroEjecuciones"
   ]
  },
  {
   "cell_type": "markdown",
   "metadata": {},
   "source": [
    "## Clasificación de polaridad"
   ]
  },
  {
   "cell_type": "code",
   "execution_count": 10,
   "metadata": {},
   "outputs": [
    {
     "data": {
      "text/plain": [
       "0.7719112627986349"
      ]
     },
     "execution_count": 10,
     "metadata": {},
     "output_type": "execute_result"
    }
   ],
   "source": [
    "accuracyPromedio = 0\n",
    "algoritmo = \"SVM\"\n",
    "numeroEjecuciones = 100\n",
    "for i in range(numeroEjecuciones):\n",
    "    corpus = pd.read_csv('archivos/sentimientos.csv')\n",
    "    accuracy, modelo = ClasificarPolaridadWE(corpus,algoritmo)\n",
    "    accuracyPromedio += accuracy\n",
    "accuracyPromedio/numeroEjecuciones"
   ]
  },
  {
   "cell_type": "code",
   "execution_count": null,
   "metadata": {},
   "outputs": [],
   "source": []
  }
 ],
 "metadata": {
  "kernelspec": {
   "display_name": "Python 3",
   "language": "python",
   "name": "python3"
  },
  "language_info": {
   "codemirror_mode": {
    "name": "ipython",
    "version": 3
   },
   "file_extension": ".py",
   "mimetype": "text/x-python",
   "name": "python",
   "nbconvert_exporter": "python",
   "pygments_lexer": "ipython3",
   "version": "3.7.4"
  }
 },
 "nbformat": 4,
 "nbformat_minor": 2
}
