{
 "cells": [
  {
   "cell_type": "markdown",
   "metadata": {},
   "source": [
    "# Librerias"
   ]
  },
  {
   "cell_type": "code",
   "execution_count": 1,
   "metadata": {},
   "outputs": [],
   "source": [
    "import pandas as pd \n",
    "import string\n",
    "from nltk.tokenize import word_tokenize \n",
    "from string import punctuation \n",
    "import re\n",
    "import nltk\n",
    "from sklearn.feature_extraction.text import TfidfVectorizer, CountVectorizer\n",
    "from sklearn import svm\n",
    "from sklearn.metrics import classification_report \n",
    "from sklearn.model_selection import train_test_split\n",
    "from sklearn.ensemble import RandomForestClassifier\n",
    "from sklearn.naive_bayes import GaussianNB\n",
    "from sklearn import metrics\n",
    "import numpy as np"
   ]
  },
  {
   "cell_type": "markdown",
   "metadata": {},
   "source": [
    "# Archivos"
   ]
  },
  {
   "cell_type": "code",
   "execution_count": 2,
   "metadata": {},
   "outputs": [],
   "source": [
    "with open('archivos/stopwords.txt') as archivo_stopword:\n",
    "    listaStopword=[line.rstrip('\\n') for line in archivo_stopword]"
   ]
  },
  {
   "cell_type": "markdown",
   "metadata": {},
   "source": [
    "# Funciones"
   ]
  },
  {
   "cell_type": "markdown",
   "metadata": {},
   "source": [
    "## Filtrar StopWord"
   ]
  },
  {
   "cell_type": "code",
   "execution_count": 3,
   "metadata": {},
   "outputs": [],
   "source": [
    "def Filtrar_StopWord(frase):\n",
    "    frase = re.sub('[%s]' % re.escape(string.punctuation), ' ', frase)\n",
    "    vector_frase = word_tokenize(frase)\n",
    "    fraseFiltrada =\"\"\n",
    "    non_words = list(punctuation) \n",
    "    non_words.extend(['¿', '¡'])\n",
    "    for palabra in vector_frase:\n",
    "        if palabra.lower() not in lista_Stopword and palabra not in non_words:\n",
    "            fraseFiltrada +=\" \"+palabra\n",
    "    return fraseFiltrada"
   ]
  },
  {
   "cell_type": "markdown",
   "metadata": {},
   "source": [
    "## Tokenize"
   ]
  },
  {
   "cell_type": "code",
   "execution_count": 4,
   "metadata": {},
   "outputs": [],
   "source": [
    "def Tokenize(text):\n",
    "        tokens = nltk.word_tokenize(text,  language='spanish')\n",
    "        stems = []\n",
    "        for item in tokens:\n",
    "            stems.append(nltk.PorterStemmer().stem(item))\n",
    "        return stems"
   ]
  },
  {
   "cell_type": "markdown",
   "metadata": {},
   "source": [
    "## Procesar datos para Machine Learning "
   ]
  },
  {
   "cell_type": "code",
   "execution_count": 5,
   "metadata": {},
   "outputs": [],
   "source": [
    "def Procesar_DatosML(xtrain,xtest):\n",
    "   vectorizer = TfidfVectorizer(tokenizer=Tokenize, max_df = 0.80, use_idf=True,min_df=1)\n",
    "   #vectorizer    = CountVectorizer(min_df=1,binary=True) # metrica binaria\n",
    "   vector_train  = vectorizer.fit_transform(xtrain)\n",
    "   vector_test   = vectorizer.transform(xtest)\n",
    "   #print(vectorizer.get_feature_names())\n",
    "   return vector_train, vector_test, vectorizer"
   ]
  },
  {
   "cell_type": "markdown",
   "metadata": {},
   "source": [
    "## Limpiar Corpus"
   ]
  },
  {
   "cell_type": "code",
   "execution_count": 6,
   "metadata": {},
   "outputs": [],
   "source": [
    "def LimpiarCorpus(X_frases):\n",
    "        for i in range(len(X_frases)):\n",
    "            X_frases[i] = re.sub(\"[^a-zA-Z]\", \" \", X_frases[i].lower())\n",
    "            X_frases[i] = ' '.join(X_frases[i].split())\n",
    "        return X_frases"
   ]
  },
  {
   "cell_type": "markdown",
   "metadata": {},
   "source": [
    "## Entrenar y medir modelos ML"
   ]
  },
  {
   "cell_type": "code",
   "execution_count": 7,
   "metadata": {},
   "outputs": [],
   "source": [
    "def EntrenarMedirML(X_train, X_test, Y_train, Y_test,algoritmo):\n",
    "    # MODELO\n",
    "    if(algoritmo==\"SVM\"):\n",
    "        modelo = svm.SVC(kernel='linear') \n",
    "        modelo.fit(X=X_train,y=Y_train)\n",
    "        # PREDICCIÓN\n",
    "        prediccion = modelo.predict(X_test)\n",
    "    if(algoritmo==\"Random Forest\"):\n",
    "        modelo=RandomForestClassifier(n_estimators=10)\n",
    "        modelo.fit(X=X_train,y=Y_train)\n",
    "        # PREDICCIÓN\n",
    "        prediccion = modelo.predict(X_test)\n",
    "    if(algoritmo==\"Naive Bayes\"):\n",
    "        modelo = GaussianNB()\n",
    "        modelo.fit(X=X_train,y=Y_train)\n",
    "        # PREDICCIÓN\n",
    "        prediccion = modelo.predict(X_test)\n",
    "    # METRICAS\n",
    "    #reporteMetricas= classification_report(Y_test, prediccion)\n",
    "    return metrics.accuracy_score(Y_test, prediccion),modelo"
   ]
  },
  {
   "cell_type": "markdown",
   "metadata": {},
   "source": [
    "# Enfoque 1 Analisis de sentimiento basico"
   ]
  },
  {
   "cell_type": "code",
   "execution_count": 8,
   "metadata": {},
   "outputs": [],
   "source": [
    "def ClasificarPolaridadBase(corpus,algoritmo):\n",
    "    X_frases = np.asarray(corpus[['A']])\n",
    "    X_frases = X_frases.ravel()\n",
    "    Y_sentimiento = np.asarray(corpus[['B']])\n",
    "    Y_sentimiento = Y_sentimiento.ravel()\n",
    "    X_frases = LimpiarCorpus(X_frases)\n",
    "    # PARTIR CORPUS PARA ENTRENAR\n",
    "    X_train, X_test, Y_train, Y_test = train_test_split(X_frases, Y_sentimiento, test_size=0.30)\n",
    "    # TOKENIZACION + VECTORIZACIO\n",
    "    X_train, X_test, vectorizer = Procesar_DatosML(X_train, X_test)\n",
    "    #reporteMetricas= classification_report(Y_test, prediccion)\n",
    "    return EntrenarMedirML(X_train, X_test, Y_train, Y_test,algoritmo)"
   ]
  },
  {
   "cell_type": "markdown",
   "metadata": {},
   "source": [
    "# Main"
   ]
  },
  {
   "cell_type": "markdown",
   "metadata": {},
   "source": [
    "## Clasificar el aspecto enfoque básico"
   ]
  },
  {
   "cell_type": "code",
   "execution_count": 9,
   "metadata": {},
   "outputs": [
    {
     "data": {
      "text/plain": [
       "0.813568773234201"
      ]
     },
     "execution_count": 9,
     "metadata": {},
     "output_type": "execute_result"
    }
   ],
   "source": [
    "corpus = pd.read_csv('archivos/aspectos.csv')\n",
    "accuracyPromedio = 0\n",
    "algoritmo=\"SVM\"\n",
    "numeroEjecuciones = 100\n",
    "for i in range(numeroEjecuciones):\n",
    "    accuracy,modelo = ClasificarPolaridadBase(corpus, algoritmo)\n",
    "    accuracyPromedio +=accuracy\n",
    "accuracyPromedio/numeroEjecuciones"
   ]
  },
  {
   "cell_type": "markdown",
   "metadata": {},
   "source": [
    "## Analisis de sentimiento Enfoque: basico"
   ]
  },
  {
   "cell_type": "code",
   "execution_count": 11,
   "metadata": {},
   "outputs": [
    {
     "data": {
      "text/plain": [
       "0.781569965870307"
      ]
     },
     "execution_count": 11,
     "metadata": {},
     "output_type": "execute_result"
    }
   ],
   "source": [
    "corpus = pd.read_csv('archivos/sentimientos.csv')\n",
    "accuracyPromedio = 0\n",
    "algoritmo=\"SVM\"\n",
    "numeroEjecuciones = 100\n",
    "for i in range(numeroEjecuciones):\n",
    "    accuracy, kk = ClasificarPolaridadBase(corpus, algoritmo)\n",
    "    accuracyPromedio += accuracy\n",
    "accuracyPromedio/numeroEjecuciones"
   ]
  },
  {
   "cell_type": "code",
   "execution_count": null,
   "metadata": {},
   "outputs": [],
   "source": []
  }
 ],
 "metadata": {
  "kernelspec": {
   "display_name": "Python 3",
   "language": "python",
   "name": "python3"
  },
  "language_info": {
   "codemirror_mode": {
    "name": "ipython",
    "version": 3
   },
   "file_extension": ".py",
   "mimetype": "text/x-python",
   "name": "python",
   "nbconvert_exporter": "python",
   "pygments_lexer": "ipython3",
   "version": "3.7.4"
  }
 },
 "nbformat": 4,
 "nbformat_minor": 2
}
