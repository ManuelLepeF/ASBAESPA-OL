{
 "cells": [
  {
   "cell_type": "markdown",
   "metadata": {},
   "source": [
    "# Librerias y Dataset"
   ]
  },
  {
   "cell_type": "code",
   "execution_count": 1,
   "metadata": {},
   "outputs": [
    {
     "name": "stderr",
     "output_type": "stream",
     "text": [
      "Using TensorFlow backend.\n"
     ]
    }
   ],
   "source": [
    "import numpy as np\n",
    "import pandas as pd\n",
    "import nltk\n",
    "from nltk.corpus import twitter_samples\n",
    "from tensorflow import keras\n",
    "from sklearn import preprocessing\n",
    "from sklearn.model_selection import train_test_split\n",
    "import matplotlib.pyplot as plt\n",
    "from keras.preprocessing.text import Tokenizer\n",
    "from gensim.models import KeyedVectors\n",
    "data = pd.read_csv('archivos/sentimientos.csv')\n"
   ]
  },
  {
   "cell_type": "code",
   "execution_count": 2,
   "metadata": {},
   "outputs": [],
   "source": [
    "representacionVectorial = KeyedVectors.load_word2vec_format('archivos/fasttext-sbwc.3.6.e20.vec', limit=100000)"
   ]
  },
  {
   "cell_type": "markdown",
   "metadata": {},
   "source": [
    "# Codificación vectorial que mantiene la secuencia"
   ]
  },
  {
   "cell_type": "markdown",
   "metadata": {},
   "source": [
    "## Codificar Tweet "
   ]
  },
  {
   "cell_type": "code",
   "execution_count": 3,
   "metadata": {},
   "outputs": [
    {
     "name": "stdout",
     "output_type": "stream",
     "text": [
      "tokenizing input data...\n",
      "dictionary size:  1380\n"
     ]
    }
   ],
   "source": [
    "max_words=1380\n",
    "print(\"tokenizing input data...\")\n",
    "tokenizer = Tokenizer(num_words=max_words, lower=True, char_level=False)\n",
    "tokenizer.fit_on_texts(data['A'])  #leaky\n",
    "encoded_strings = tokenizer.texts_to_sequences(data['A'])\n",
    "word_index = tokenizer.word_index\n",
    "print(\"dictionary size: \", len(word_index))\n",
    "encoded_strings = keras.preprocessing.sequence.pad_sequences(encoded_strings, maxlen=10000)"
   ]
  },
  {
   "cell_type": "markdown",
   "metadata": {},
   "source": [
    "## Codificar Etiqueta"
   ]
  },
  {
   "cell_type": "code",
   "execution_count": 4,
   "metadata": {},
   "outputs": [],
   "source": [
    "encoded_labels = pd.get_dummies(data, columns = [\"B\"])\n",
    "encoded_labels =encoded_labels[['B_negativo','B_neutral','B_positivo']]"
   ]
  },
  {
   "cell_type": "markdown",
   "metadata": {},
   "source": [
    "## Split Datos"
   ]
  },
  {
   "cell_type": "code",
   "execution_count": 5,
   "metadata": {},
   "outputs": [],
   "source": [
    "X_train, X_test, y_train, y_test = train_test_split(encoded_strings, encoded_labels, test_size=0.2, random_state=1)\n",
    "y_train = np.asarray(y_train)\n",
    "y_test = np.asarray(y_test)\n",
    "X_train = np.asarray(X_train)\n",
    "X_test = np.asarray(X_test)"
   ]
  },
  {
   "cell_type": "markdown",
   "metadata": {},
   "source": [
    "## Preparando embedding matrix"
   ]
  },
  {
   "cell_type": "code",
   "execution_count": 6,
   "metadata": {},
   "outputs": [
    {
     "name": "stdout",
     "output_type": "stream",
     "text": [
      "preparing embedding matrix...\n",
      "number of null word embeddings: 297\n"
     ]
    }
   ],
   "source": [
    "print('preparing embedding matrix...')\n",
    "embed_dim = 300\n",
    "words_not_found = []\n",
    "nb_words = min(max_words, len(word_index))\n",
    "embedding_matrix = np.zeros((nb_words, embed_dim))\n",
    "for word, i in word_index.items():\n",
    "    if i >= nb_words:\n",
    "        continue\n",
    "    if word in representacionVectorial:\n",
    "        # words not found in embedding index will be all-zeros.\n",
    "        embedding_matrix[i] = representacionVectorial[word]\n",
    "    else:\n",
    "        words_not_found.append(word)\n",
    "print('number of null word embeddings: %d' % np.sum(np.sum(embedding_matrix, axis=1) == 0))"
   ]
  },
  {
   "cell_type": "markdown",
   "metadata": {},
   "source": [
    "## Red con primera capa de embedding"
   ]
  },
  {
   "cell_type": "code",
   "execution_count": 7,
   "metadata": {},
   "outputs": [],
   "source": [
    "network = keras.models.Sequential()\n",
    "network.add(keras.layers.Embedding(max_words,embed_dim, weights=[embedding_matrix], input_length=10000,trainable=False))\n",
    "network.add(keras.layers.Flatten())\n",
    "network.add(keras.layers.Dense(units=50, activation='relu'))\n",
    "network.add(keras.layers.Dense(units=3, activation='sigmoid'))"
   ]
  },
  {
   "cell_type": "markdown",
   "metadata": {},
   "source": [
    "## Compilar red con clasificación binaria"
   ]
  },
  {
   "cell_type": "code",
   "execution_count": 8,
   "metadata": {},
   "outputs": [],
   "source": [
    "network.compile(optimizer='rmsprop',loss='categorical_crossentropy',metrics=['accuracy'])"
   ]
  },
  {
   "cell_type": "markdown",
   "metadata": {},
   "source": [
    "## Entrenar Red y visualizar resultados"
   ]
  },
  {
   "cell_type": "code",
   "execution_count": 9,
   "metadata": {},
   "outputs": [
    {
     "name": "stdout",
     "output_type": "stream",
     "text": [
      "Train on 623 samples, validate on 156 samples\n",
      "Epoch 1/25\n",
      "623/623 [==============================] - 31s 50ms/sample - loss: 0.7569 - accuracy: 0.7287 - val_loss: 0.6276 - val_accuracy: 0.7821\n",
      "Epoch 2/25\n",
      "623/623 [==============================] - 26s 42ms/sample - loss: 0.5672 - accuracy: 0.7432 - val_loss: 0.6174 - val_accuracy: 0.7756\n",
      "Epoch 3/25\n",
      "623/623 [==============================] - 26s 42ms/sample - loss: 0.4687 - accuracy: 0.7785 - val_loss: 0.5894 - val_accuracy: 0.7821\n",
      "Epoch 4/25\n",
      "623/623 [==============================] - 26s 42ms/sample - loss: 0.3779 - accuracy: 0.8620 - val_loss: 0.5953 - val_accuracy: 0.7949\n",
      "Epoch 5/25\n",
      "623/623 [==============================] - 26s 42ms/sample - loss: 0.2973 - accuracy: 0.9101 - val_loss: 0.6390 - val_accuracy: 0.7500\n",
      "Epoch 6/25\n",
      "623/623 [==============================] - 26s 42ms/sample - loss: 0.2390 - accuracy: 0.9374 - val_loss: 0.6803 - val_accuracy: 0.7949\n",
      "Epoch 7/25\n",
      "623/623 [==============================] - 26s 42ms/sample - loss: 0.1996 - accuracy: 0.9486 - val_loss: 0.6790 - val_accuracy: 0.7821\n",
      "Epoch 8/25\n",
      "623/623 [==============================] - 27s 43ms/sample - loss: 0.1677 - accuracy: 0.9647 - val_loss: 0.7401 - val_accuracy: 0.7756\n",
      "Epoch 9/25\n",
      "623/623 [==============================] - 26s 42ms/sample - loss: 0.1395 - accuracy: 0.9711 - val_loss: 0.7187 - val_accuracy: 0.7756\n",
      "Epoch 10/25\n",
      "623/623 [==============================] - 26s 42ms/sample - loss: 0.1190 - accuracy: 0.9727 - val_loss: 0.7994 - val_accuracy: 0.7756\n",
      "Epoch 11/25\n",
      "623/623 [==============================] - 26s 42ms/sample - loss: 0.1033 - accuracy: 0.9743 - val_loss: 0.8119 - val_accuracy: 0.7692\n",
      "Epoch 12/25\n",
      "623/623 [==============================] - 26s 42ms/sample - loss: 0.0865 - accuracy: 0.9823 - val_loss: 0.8158 - val_accuracy: 0.7821\n",
      "Epoch 13/25\n",
      "623/623 [==============================] - 26s 42ms/sample - loss: 0.0755 - accuracy: 0.9856 - val_loss: 0.8856 - val_accuracy: 0.7628\n",
      "Epoch 14/25\n",
      "623/623 [==============================] - 26s 42ms/sample - loss: 0.0660 - accuracy: 0.9839 - val_loss: 0.9035 - val_accuracy: 0.7821\n",
      "Epoch 15/25\n",
      "623/623 [==============================] - 26s 42ms/sample - loss: 0.0565 - accuracy: 0.9904 - val_loss: 0.9188 - val_accuracy: 0.7372\n",
      "Epoch 16/25\n",
      "623/623 [==============================] - 26s 42ms/sample - loss: 0.0535 - accuracy: 0.9888 - val_loss: 1.0815 - val_accuracy: 0.7885\n",
      "Epoch 17/25\n",
      "623/623 [==============================] - 26s 42ms/sample - loss: 0.0464 - accuracy: 0.9888 - val_loss: 1.1400 - val_accuracy: 0.7949\n",
      "Epoch 18/25\n",
      "623/623 [==============================] - 26s 42ms/sample - loss: 0.0402 - accuracy: 0.9920 - val_loss: 1.1127 - val_accuracy: 0.7885\n",
      "Epoch 19/25\n",
      "623/623 [==============================] - 26s 42ms/sample - loss: 0.0369 - accuracy: 0.9920 - val_loss: 1.0908 - val_accuracy: 0.7692\n",
      "Epoch 20/25\n",
      "623/623 [==============================] - 26s 42ms/sample - loss: 0.0331 - accuracy: 0.9936 - val_loss: 1.0777 - val_accuracy: 0.7885\n",
      "Epoch 21/25\n",
      "623/623 [==============================] - 26s 42ms/sample - loss: 0.0309 - accuracy: 0.9936 - val_loss: 1.2294 - val_accuracy: 0.7628\n",
      "Epoch 22/25\n",
      "623/623 [==============================] - 26s 42ms/sample - loss: 0.0272 - accuracy: 0.9904 - val_loss: 1.2889 - val_accuracy: 0.7756\n",
      "Epoch 23/25\n",
      "623/623 [==============================] - 26s 42ms/sample - loss: 0.0244 - accuracy: 0.9952 - val_loss: 1.2811 - val_accuracy: 0.7628\n",
      "Epoch 24/25\n",
      "623/623 [==============================] - 26s 42ms/sample - loss: 0.0234 - accuracy: 0.9936 - val_loss: 1.2434 - val_accuracy: 0.7308\n",
      "Epoch 25/25\n",
      "623/623 [==============================] - 26s 42ms/sample - loss: 0.0233 - accuracy: 0.9952 - val_loss: 1.3546 - val_accuracy: 0.7500\n"
     ]
    }
   ],
   "source": [
    "history = network.fit(X_train, y_train, epochs=25, batch_size=32, validation_split=0.2)\n",
    "acc_hist = history.history['accuracy']\n",
    "val_acc_hist = history.history['val_accuracy']\n",
    "val_acc_loss = history.history['loss']"
   ]
  },
  {
   "cell_type": "code",
   "execution_count": 10,
   "metadata": {},
   "outputs": [
    {
     "data": {
      "image/png": "[encoded data removed]",
      "text/plain": [
       "<Figure size 432x288 with 1 Axes>"
      ]
     },
     "metadata": {
      "needs_background": "light"
     },
     "output_type": "display_data"
    }
   ],
   "source": [
    "epochs = range(1, len(acc_hist) + 1)\n",
    "plt.plot(epochs, acc_hist, 'bo', label='Acc para entrenamiento')\n",
    "plt.plot(epochs, val_acc_hist, 'b', label='Acc para la validación')\n",
    "plt.plot(epochs, val_acc_loss, 'c', label='Perdida')\n",
    "plt.title('Accuracy vs épocas')\n",
    "plt.xlabel('Épocas')\n",
    "plt.ylabel('Accuracy')\n",
    "plt.legend()\n",
    "plt.show()"
   ]
  },
  {
   "cell_type": "code",
   "execution_count": 11,
   "metadata": {},
   "outputs": [
    {
     "name": "stdout",
     "output_type": "stream",
     "text": [
      "\r",
      "195/1 [==========================================================================================================================================================================================================================================================================================================================================================================================================================================================================================================================================================================================================================================================================================================================================================================================================================================================================================================================================================================================================================================================================================================================================================================================================================================================================================================================================================================================================================================================================================================================================================================================================================================================================================================================================================================================================================================================================================================================================================================================================================================================================================================================================================================================================================================================================================================================================================================================================================================================================================================================================================================================================================================================================================================================================================================================================================================================================================================================================================================================================================================================================================================================================================================================================================================================================================================================================================================================================================================================================================================================================================================================================================================================================================================================================================================================================================================================================================================================================================================================================================================================================================================================================================================================================================================================================================================================================================================================================================================================================================================================================================================================================================================================================================================================================================================================================================================================================================================================================================================================================================================================================================================================================================================================================================================================================================================================================================================================================================================================================================================================================================================================================================================================================================================================================================================================================================================================================================================================================================================================================================================================================================] - 1s 5ms/sample - loss: 0.7406 - accuracy: 0.7795\n"
     ]
    },
    {
     "data": {
      "text/plain": [
       "[1.1443565079799065, 0.7794872]"
      ]
     },
     "execution_count": 11,
     "metadata": {},
     "output_type": "execute_result"
    }
   ],
   "source": [
    "network.evaluate(X_test,y_test)"
   ]
  },
  {
   "cell_type": "code",
   "execution_count": null,
   "metadata": {},
   "outputs": [],
   "source": []
  }
 ],
 "metadata": {
  "kernelspec": {
   "display_name": "Python 3",
   "language": "python",
   "name": "python3"
  },
  "language_info": {
   "codemirror_mode": {
    "name": "ipython",
    "version": 3
   },
   "file_extension": ".py",
   "mimetype": "text/x-python",
   "name": "python",
   "nbconvert_exporter": "python",
   "pygments_lexer": "ipython3",
   "version": "3.7.4"
  }
 },
 "nbformat": 4,
 "nbformat_minor": 2
}
